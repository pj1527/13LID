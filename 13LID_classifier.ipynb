{
 "cells": [
  {
   "cell_type": "code",
   "execution_count": 10,
   "metadata": {},
   "outputs": [
    {
     "name": "stdout",
     "output_type": "stream",
     "text": [
      "Import Successful\n"
     ]
    }
   ],
   "source": [
    "from __future__ import division                                         \n",
    "import tensorflow as tf                                                 \n",
    "tf.set_random_seed(1) \n",
    "\n",
    "import os\n",
    "import numpy as np\n",
    "from sklearn.model_selection import train_test_split\n",
    "from keras.layers import Dense\n",
    "from keras.models import Sequential\n",
    "from keras.layers.core import Dense, Dropout, Activation, Flatten\n",
    "from keras.layers.convolutional import Conv2D, MaxPooling2D\n",
    "from keras.optimizers import SGD, Adadelta, Adagrad, Adam\n",
    "from keras.utils import np_utils, generic_utils, to_categorical\n",
    "from keras.callbacks import EarlyStopping\n",
    "from keras.layers.normalization import BatchNormalization\n",
    "import sys\n",
    "import pickle\n",
    "\n",
    "print (\"Import Successful\")"
   ]
  },
  {
   "cell_type": "markdown",
   "metadata": {},
   "source": [
    "If want to train for 2 second utterances use '13L_2sec_mel_spectrograms.pickle' otherwise use '13L_mel_spectrograms.pickle'"
   ]
  },
  {
   "cell_type": "code",
   "execution_count": 11,
   "metadata": {},
   "outputs": [
    {
     "name": "stdout",
     "output_type": "stream",
     "text": [
      "Training data dimensions : (13062, 128, 87, 1)\n",
      "Test data : (3266, 128, 87, 1)\n"
     ]
    }
   ],
   "source": [
    "with open('13L_2sec_mel_spectrograms.pickle','rb') as f:\n",
    "    corpus,targets = pickle.load(f,encoding='latin1')\n",
    "\n",
    "\n",
    "xtrain, xtest, ytrain, ytest = train_test_split(corpus, targets, test_size=0.2, random_state=42)\n",
    "print('Training data dimensions : {}'.format(xtrain.shape))\n",
    "print('Test data : {}'.format(xtest.shape))"
   ]
  },
  {
   "cell_type": "code",
   "execution_count": 14,
   "metadata": {},
   "outputs": [
    {
     "name": "stdout",
     "output_type": "stream",
     "text": [
      "Epoch 1/100\n",
      "13062/13062 [==============================] - 5s 364us/step - loss: 9.7638 - acc: 0.1067\n",
      "Epoch 2/100\n",
      "13062/13062 [==============================] - 3s 256us/step - loss: 7.7011 - acc: 0.1418\n",
      "Epoch 3/100\n",
      "13062/13062 [==============================] - 3s 250us/step - loss: 6.0462 - acc: 0.1572\n",
      "Epoch 4/100\n",
      "13062/13062 [==============================] - 3s 260us/step - loss: 4.8546 - acc: 0.1588\n",
      "Epoch 5/100\n",
      "13062/13062 [==============================] - 4s 273us/step - loss: 3.8709 - acc: 0.1608\n",
      "Epoch 6/100\n",
      "13062/13062 [==============================] - 3s 261us/step - loss: 3.3083 - acc: 0.1563\n",
      "Epoch 7/100\n",
      "13062/13062 [==============================] - 3s 267us/step - loss: 2.9873 - acc: 0.1538\n",
      "Epoch 8/100\n",
      "13062/13062 [==============================] - 3s 265us/step - loss: 2.7997 - acc: 0.1783\n",
      "Epoch 9/100\n",
      "13062/13062 [==============================] - 3s 258us/step - loss: 2.6897 - acc: 0.1965\n",
      "Epoch 10/100\n",
      "13062/13062 [==============================] - 3s 257us/step - loss: 2.5878 - acc: 0.1984\n",
      "Epoch 11/100\n",
      "13062/13062 [==============================] - 4s 275us/step - loss: 2.5467 - acc: 0.1893\n",
      "Epoch 12/100\n",
      "13062/13062 [==============================] - 3s 257us/step - loss: 2.4956 - acc: 0.1968\n",
      "Epoch 13/100\n",
      "13062/13062 [==============================] - 3s 267us/step - loss: 2.4683 - acc: 0.1916\n",
      "Epoch 14/100\n",
      "13062/13062 [==============================] - 3s 265us/step - loss: 2.4182 - acc: 0.1987\n",
      "Epoch 15/100\n",
      "13062/13062 [==============================] - 3s 255us/step - loss: 2.3922 - acc: 0.2044\n",
      "Epoch 16/100\n",
      "13062/13062 [==============================] - 3s 260us/step - loss: 2.3600 - acc: 0.2167\n",
      "Epoch 17/100\n",
      "13062/13062 [==============================] - 3s 261us/step - loss: 2.3410 - acc: 0.2213\n",
      "Epoch 18/100\n",
      "13062/13062 [==============================] - 3s 263us/step - loss: 2.3123 - acc: 0.2384\n",
      "Epoch 19/100\n",
      "13062/13062 [==============================] - 3s 251us/step - loss: 2.2890 - acc: 0.2442\n",
      "Epoch 20/100\n",
      "13062/13062 [==============================] - 3s 252us/step - loss: 2.2556 - acc: 0.2566\n",
      "Epoch 21/100\n",
      "13062/13062 [==============================] - 3s 261us/step - loss: 2.2162 - acc: 0.2695\n",
      "Epoch 22/100\n",
      "13062/13062 [==============================] - 4s 271us/step - loss: 2.1952 - acc: 0.2779\n",
      "Epoch 23/100\n",
      "13062/13062 [==============================] - 3s 253us/step - loss: 2.1558 - acc: 0.2920\n",
      "Epoch 24/100\n",
      "13062/13062 [==============================] - 3s 254us/step - loss: 2.1332 - acc: 0.3028\n",
      "Epoch 25/100\n",
      "13062/13062 [==============================] - 4s 269us/step - loss: 2.1086 - acc: 0.3087\n",
      "Epoch 26/100\n",
      "13062/13062 [==============================] - 3s 265us/step - loss: 2.0766 - acc: 0.3263\n",
      "Epoch 27/100\n",
      "13062/13062 [==============================] - 3s 253us/step - loss: 2.0457 - acc: 0.3400\n",
      "Epoch 28/100\n",
      "13062/13062 [==============================] - 3s 255us/step - loss: 2.0150 - acc: 0.3462\n",
      "Epoch 29/100\n",
      "13062/13062 [==============================] - 4s 281us/step - loss: 1.9988 - acc: 0.3582\n",
      "Epoch 30/100\n",
      "13062/13062 [==============================] - 4s 272us/step - loss: 1.9672 - acc: 0.3708\n",
      "Epoch 31/100\n",
      "13062/13062 [==============================] - 3s 267us/step - loss: 1.9371 - acc: 0.3726\n",
      "Epoch 32/100\n",
      "13062/13062 [==============================] - 3s 255us/step - loss: 1.9089 - acc: 0.3810\n",
      "Epoch 33/100\n",
      "13062/13062 [==============================] - 3s 262us/step - loss: 1.8983 - acc: 0.4015\n",
      "Epoch 34/100\n",
      "13062/13062 [==============================] - 4s 273us/step - loss: 1.8639 - acc: 0.4068\n",
      "Epoch 35/100\n",
      "13062/13062 [==============================] - 3s 252us/step - loss: 1.8284 - acc: 0.4119\n",
      "Epoch 36/100\n",
      "13062/13062 [==============================] - 3s 258us/step - loss: 1.8004 - acc: 0.4258\n",
      "Epoch 37/100\n",
      "13062/13062 [==============================] - 4s 269us/step - loss: 1.7741 - acc: 0.4331\n",
      "Epoch 38/100\n",
      "13062/13062 [==============================] - 3s 264us/step - loss: 1.7546 - acc: 0.4394\n",
      "Epoch 39/100\n",
      "13062/13062 [==============================] - 3s 263us/step - loss: 1.7334 - acc: 0.4478\n",
      "Epoch 40/100\n",
      "13062/13062 [==============================] - 4s 276us/step - loss: 1.7057 - acc: 0.4539\n",
      "Epoch 41/100\n",
      "13062/13062 [==============================] - 3s 254us/step - loss: 1.6764 - acc: 0.4668\n",
      "Epoch 42/100\n",
      "13062/13062 [==============================] - 3s 267us/step - loss: 1.6660 - acc: 0.4678\n",
      "Epoch 43/100\n",
      "13062/13062 [==============================] - 3s 267us/step - loss: 1.6312 - acc: 0.4796\n",
      "Epoch 44/100\n",
      "13062/13062 [==============================] - 3s 257us/step - loss: 1.6113 - acc: 0.4870\n",
      "Epoch 45/100\n",
      "13062/13062 [==============================] - 3s 266us/step - loss: 1.6058 - acc: 0.4879\n",
      "Epoch 46/100\n",
      "13062/13062 [==============================] - 4s 278us/step - loss: 1.5751 - acc: 0.4986\n",
      "Epoch 47/100\n",
      "13062/13062 [==============================] - 3s 257us/step - loss: 1.5649 - acc: 0.5052\n",
      "Epoch 48/100\n",
      "13062/13062 [==============================] - 3s 264us/step - loss: 1.5418 - acc: 0.5124\n",
      "Epoch 49/100\n",
      "13062/13062 [==============================] - 4s 289us/step - loss: 1.5162 - acc: 0.5152\n",
      "Epoch 50/100\n",
      "13062/13062 [==============================] - 4s 278us/step - loss: 1.5057 - acc: 0.5194\n",
      "Epoch 51/100\n",
      "13062/13062 [==============================] - 4s 270us/step - loss: 1.4818 - acc: 0.5322\n",
      "Epoch 52/100\n",
      "13062/13062 [==============================] - 4s 288us/step - loss: 1.4610 - acc: 0.5362\n",
      "Epoch 53/100\n",
      "13062/13062 [==============================] - 3s 266us/step - loss: 1.4411 - acc: 0.5418\n",
      "Epoch 54/100\n",
      "13062/13062 [==============================] - 3s 259us/step - loss: 1.4178 - acc: 0.5541\n",
      "Epoch 55/100\n",
      "13062/13062 [==============================] - 3s 256us/step - loss: 1.3970 - acc: 0.5587\n",
      "Epoch 56/100\n",
      "13062/13062 [==============================] - 3s 258us/step - loss: 1.3889 - acc: 0.5549\n",
      "Epoch 57/100\n",
      "13062/13062 [==============================] - 4s 275us/step - loss: 1.3814 - acc: 0.5690\n",
      "Epoch 58/100\n",
      "13062/13062 [==============================] - 3s 258us/step - loss: 1.3640 - acc: 0.5633\n",
      "Epoch 59/100\n",
      "13062/13062 [==============================] - 3s 253us/step - loss: 1.3381 - acc: 0.5740\n",
      "Epoch 60/100\n",
      "13062/13062 [==============================] - 3s 252us/step - loss: 1.3324 - acc: 0.5838\n",
      "Epoch 61/100\n",
      "13062/13062 [==============================] - 3s 252us/step - loss: 1.3132 - acc: 0.5785\n",
      "Epoch 62/100\n",
      "13062/13062 [==============================] - 3s 256us/step - loss: 1.3112 - acc: 0.5863\n",
      "Epoch 63/100\n",
      "13062/13062 [==============================] - 3s 252us/step - loss: 1.2745 - acc: 0.5928\n",
      "Epoch 64/100\n",
      "13062/13062 [==============================] - 3s 254us/step - loss: 1.2694 - acc: 0.5949\n",
      "Epoch 65/100\n",
      "13062/13062 [==============================] - 3s 258us/step - loss: 1.2640 - acc: 0.5993\n",
      "Epoch 66/100\n",
      "13062/13062 [==============================] - 4s 274us/step - loss: 1.2420 - acc: 0.6047\n",
      "Epoch 67/100\n",
      "13062/13062 [==============================] - 3s 266us/step - loss: 1.2235 - acc: 0.6133\n",
      "Epoch 68/100\n",
      "13062/13062 [==============================] - 3s 253us/step - loss: 1.2172 - acc: 0.6180\n",
      "Epoch 69/100\n",
      "13062/13062 [==============================] - 3s 266us/step - loss: 1.2012 - acc: 0.6203\n",
      "Epoch 70/100\n",
      "13062/13062 [==============================] - 4s 277us/step - loss: 1.1880 - acc: 0.6225\n",
      "Epoch 71/100\n",
      "13062/13062 [==============================] - 4s 288us/step - loss: 1.1661 - acc: 0.6275\n",
      "Epoch 72/100\n",
      "13062/13062 [==============================] - 4s 270us/step - loss: 1.1607 - acc: 0.6343\n",
      "Epoch 73/100\n",
      "13062/13062 [==============================] - 4s 287us/step - loss: 1.1411 - acc: 0.6383\n",
      "Epoch 74/100\n",
      "13062/13062 [==============================] - 3s 266us/step - loss: 1.1394 - acc: 0.6379\n",
      "Epoch 75/100\n",
      "13062/13062 [==============================] - 3s 263us/step - loss: 1.1266 - acc: 0.6457\n",
      "Epoch 76/100\n",
      "13062/13062 [==============================] - 3s 259us/step - loss: 1.1100 - acc: 0.6519\n",
      "Epoch 77/100\n",
      "13062/13062 [==============================] - 3s 261us/step - loss: 1.1123 - acc: 0.6483\n",
      "Epoch 78/100\n",
      "13062/13062 [==============================] - 3s 261us/step - loss: 1.0729 - acc: 0.6581\n",
      "Epoch 79/100\n",
      "13062/13062 [==============================] - 4s 311us/step - loss: 1.0649 - acc: 0.6641\n",
      "Epoch 80/100\n"
     ]
    },
    {
     "name": "stdout",
     "output_type": "stream",
     "text": [
      "13062/13062 [==============================] - 4s 270us/step - loss: 1.0669 - acc: 0.6613\n",
      "Epoch 81/100\n",
      "13062/13062 [==============================] - 4s 276us/step - loss: 1.0346 - acc: 0.6719\n",
      "Epoch 82/100\n",
      "13062/13062 [==============================] - 4s 276us/step - loss: 1.0315 - acc: 0.6766\n",
      "Epoch 83/100\n",
      "13062/13062 [==============================] - 3s 259us/step - loss: 1.0162 - acc: 0.6764\n",
      "Epoch 84/100\n",
      "13062/13062 [==============================] - 3s 262us/step - loss: 1.0053 - acc: 0.6776\n",
      "Epoch 85/100\n",
      "13062/13062 [==============================] - 4s 307us/step - loss: 0.9879 - acc: 0.6885\n",
      "Epoch 86/100\n",
      "13062/13062 [==============================] - 4s 277us/step - loss: 0.9884 - acc: 0.6864\n",
      "Epoch 87/100\n",
      "13062/13062 [==============================] - 4s 271us/step - loss: 0.9758 - acc: 0.6906\n",
      "Epoch 88/100\n",
      "13062/13062 [==============================] - 4s 279us/step - loss: 0.9602 - acc: 0.6922\n",
      "Epoch 89/100\n",
      "13062/13062 [==============================] - 4s 293us/step - loss: 0.9535 - acc: 0.7007\n",
      "Epoch 90/100\n",
      "13062/13062 [==============================] - 4s 283us/step - loss: 0.9365 - acc: 0.7013\n",
      "Epoch 91/100\n",
      "13062/13062 [==============================] - 4s 278us/step - loss: 0.9289 - acc: 0.7059\n",
      "Epoch 92/100\n",
      "13062/13062 [==============================] - 4s 292us/step - loss: 0.9232 - acc: 0.7048\n",
      "Epoch 93/100\n",
      "13062/13062 [==============================] - 4s 288us/step - loss: 0.8925 - acc: 0.7169\n",
      "Epoch 94/100\n",
      "13062/13062 [==============================] - 4s 271us/step - loss: 0.9003 - acc: 0.7136\n",
      "Epoch 95/100\n",
      "13062/13062 [==============================] - 4s 276us/step - loss: 0.9065 - acc: 0.7144\n",
      "Epoch 96/100\n",
      "13062/13062 [==============================] - 4s 292us/step - loss: 0.8750 - acc: 0.7201\n",
      "Epoch 97/100\n",
      "13062/13062 [==============================] - 4s 284us/step - loss: 0.8575 - acc: 0.7295\n",
      "Epoch 98/100\n",
      "13062/13062 [==============================] - 4s 275us/step - loss: 0.8467 - acc: 0.7296\n",
      "Epoch 99/100\n",
      "13062/13062 [==============================] - 4s 285us/step - loss: 0.8541 - acc: 0.7278\n",
      "Epoch 100/100\n",
      "13062/13062 [==============================] - 4s 289us/step - loss: 0.8356 - acc: 0.7321\n"
     ]
    },
    {
     "data": {
      "text/plain": [
       "<keras.callbacks.History at 0x7f70500da240>"
      ]
     },
     "execution_count": 14,
     "metadata": {},
     "output_type": "execute_result"
    }
   ],
   "source": [
    "# create model\n",
    "model = Sequential()\n",
    "    \n",
    "model.add(Conv2D(32, kernel_size=(3, 3), activation='relu', input_shape=xtrain[0].shape))\n",
    "model.add(MaxPooling2D(pool_size=(2, 2)))\n",
    "model.add(Dropout(0.25))\n",
    "    \n",
    "model.add(Conv2D(32, kernel_size=(3, 3), activation='relu'))\n",
    "model.add(MaxPooling2D(pool_size=(2, 2)))\n",
    "model.add(Dropout(0.25))\n",
    "\n",
    "model.add(Conv2D(16, kernel_size=(3, 3), activation='relu'))\n",
    "model.add(MaxPooling2D(pool_size=(2, 2)))\n",
    "model.add(Dropout(0.25))\n",
    "\n",
    "model.add(Flatten())\n",
    "\n",
    "model.add(Dense(1024,activation='relu'))\n",
    "\n",
    "model.add(Dense(13, activation='softmax'))\n",
    "\n",
    "# Compile the model\n",
    "model.compile(loss='categorical_crossentropy',optimizer=Adam(lr=0.0001, decay=1e-6),metrics=['accuracy'])\n",
    "\n",
    "# Train the model\n",
    "model.fit(xtrain, to_categorical(ytrain),batch_size=512,shuffle=True,epochs=100,verbose=1,callbacks=[EarlyStopping(min_delta=0.001, patience=3)])\n"
   ]
  },
  {
   "cell_type": "code",
   "execution_count": 15,
   "metadata": {},
   "outputs": [
    {
     "name": "stdout",
     "output_type": "stream",
     "text": [
      "3266/3266 [==============================] - 1s 249us/step\n",
      "Loss: 1.0425701995459495\n",
      "Accuracy: 0.6677893447642376\n"
     ]
    }
   ],
   "source": [
    "# Evaluate the model\n",
    "scores = model.evaluate(xtest, to_categorical(ytest))\n",
    "print('Loss: {}'.format(scores[0]))\n",
    "print('Accuracy: {}'.format(scores[1]))"
   ]
  },
  {
   "cell_type": "code",
   "execution_count": 16,
   "metadata": {},
   "outputs": [
    {
     "name": "stdout",
     "output_type": "stream",
     "text": [
      "_________________________________________________________________\n",
      "Layer (type)                 Output Shape              Param #   \n",
      "=================================================================\n",
      "conv2d_7 (Conv2D)            (None, 126, 85, 32)       320       \n",
      "_________________________________________________________________\n",
      "max_pooling2d_7 (MaxPooling2 (None, 63, 42, 32)        0         \n",
      "_________________________________________________________________\n",
      "dropout_7 (Dropout)          (None, 63, 42, 32)        0         \n",
      "_________________________________________________________________\n",
      "conv2d_8 (Conv2D)            (None, 61, 40, 32)        9248      \n",
      "_________________________________________________________________\n",
      "max_pooling2d_8 (MaxPooling2 (None, 30, 20, 32)        0         \n",
      "_________________________________________________________________\n",
      "dropout_8 (Dropout)          (None, 30, 20, 32)        0         \n",
      "_________________________________________________________________\n",
      "conv2d_9 (Conv2D)            (None, 28, 18, 16)        4624      \n",
      "_________________________________________________________________\n",
      "max_pooling2d_9 (MaxPooling2 (None, 14, 9, 16)         0         \n",
      "_________________________________________________________________\n",
      "dropout_9 (Dropout)          (None, 14, 9, 16)         0         \n",
      "_________________________________________________________________\n",
      "flatten_3 (Flatten)          (None, 2016)              0         \n",
      "_________________________________________________________________\n",
      "dense_5 (Dense)              (None, 1024)              2065408   \n",
      "_________________________________________________________________\n",
      "dense_6 (Dense)              (None, 13)                13325     \n",
      "=================================================================\n",
      "Total params: 2,092,925\n",
      "Trainable params: 2,092,925\n",
      "Non-trainable params: 0\n",
      "_________________________________________________________________\n",
      "None\n"
     ]
    }
   ],
   "source": [
    "print(model.summary())"
   ]
  },
  {
   "cell_type": "code",
   "execution_count": 17,
   "metadata": {},
   "outputs": [
    {
     "name": "stdout",
     "output_type": "stream",
     "text": [
      "Predicted Labels dimensions : (3266,)\n",
      "[[182  11   5   3  23   3   1   0   0   6   2   4   5]\n",
      " [  1 170   2   9   3  10   1  21   0   3   7   2  12]\n",
      " [  4  11 128  13  13  21   1   7   5  12  25   6   7]\n",
      " [  0   2   2 217   0   2   2   2   4  18   9   0  10]\n",
      " [  7   2   5   0 139  60   5   0   0   2  13  10  18]\n",
      " [  0   2   0   2   0 213   0   0   4   3   0   0   0]\n",
      " [  2   9   1   9   8  12 197   4   3   7   2   5   0]\n",
      " [  3  24   2   2   3   4   2 236   0   4   0   0   4]\n",
      " [  4   2   7  22   7  31  12   1  82  68   2   3  16]\n",
      " [  0   8   8  21  10  20  15   7  35 106   4   4  10]\n",
      " [  1   1   4   2   3   5   0   5   2   2 180  10  14]\n",
      " [  3   2   7   9   2   9  12   4   1   0  37 136  16]\n",
      " [  0   2   0   1   1  24   1   0   1   2  20  12 195]]\n"
     ]
    }
   ],
   "source": [
    "# Confusion matrix\n",
    "from sklearn.metrics import confusion_matrix\n",
    "\n",
    "ypred = model.predict(xtest)\n",
    "\n",
    "ypred_enc = np.argmax(ypred, axis=1)\n",
    "print('Predicted Labels dimensions : {}'.format(ypred_enc.shape))\n",
    "print(confusion_matrix(ytest,ypred_enc))"
   ]
  },
  {
   "cell_type": "code",
   "execution_count": 19,
   "metadata": {},
   "outputs": [
    {
     "name": "stdout",
     "output_type": "stream",
     "text": [
      "AxesSubplot(0.125,0.125;0.62x0.755)\n"
     ]
    },
    {
     "data": {
      "image/png": "[encoded data removed]",
      "text/plain": [
       "<Figure size 432x288 with 2 Axes>"
      ]
     },
     "metadata": {
      "needs_background": "light"
     },
     "output_type": "display_data"
    }
   ],
   "source": [
    "import seaborn as sns\n",
    "\n",
    "class_names = []\n",
    "data_folder='13_language_dataset'\n",
    "for lang in os.listdir(data_folder):\n",
    "    if not lang.startswith('.'):\n",
    "        class_names.append(lang)\n",
    "\n",
    "class_names = np.asarray(class_names)\n",
    "\n",
    "fig = sns.heatmap(confusion_matrix(ytest,ypred_enc),xticklabels=class_names,yticklabels=class_names)\n",
    "\n",
    "print(fig)"
   ]
  },
  {
   "cell_type": "code",
   "execution_count": 23,
   "metadata": {},
   "outputs": [],
   "source": [
    "fig.get_figure().savefig('2sec_heatmap.png')"
   ]
  }
 ],
 "metadata": {
  "kernelspec": {
   "display_name": "Python 3",
   "language": "python",
   "name": "python3"
  },
  "language_info": {
   "codemirror_mode": {
    "name": "ipython",
    "version": 3
   },
   "file_extension": ".py",
   "mimetype": "text/x-python",
   "name": "python",
   "nbconvert_exporter": "python",
   "pygments_lexer": "ipython3",
   "version": "3.5.2"
  }
 },
 "nbformat": 4,
 "nbformat_minor": 2
}
