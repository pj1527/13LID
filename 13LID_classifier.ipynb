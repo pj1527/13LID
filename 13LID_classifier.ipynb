{
 "cells": [
  {
   "cell_type": "code",
   "execution_count": 1,
   "metadata": {},
   "outputs": [
    {
     "name": "stdout",
     "output_type": "stream",
     "text": [
      "Import Successful\n"
     ]
    },
    {
     "name": "stderr",
     "output_type": "stream",
     "text": [
      "Using TensorFlow backend.\n"
     ]
    }
   ],
   "source": [
    "from __future__ import division                                         \n",
    "import tensorflow as tf                                                 \n",
    "tf.set_random_seed(1) \n",
    "\n",
    "import os\n",
    "import numpy as np\n",
    "from sklearn.model_selection import train_test_split\n",
    "from keras.layers import Dense\n",
    "from keras.models import Sequential\n",
    "from keras.layers.core import Dense, Dropout, Activation, Flatten\n",
    "from keras.layers.convolutional import Conv2D, MaxPooling2D\n",
    "from keras.optimizers import SGD, Adadelta, Adagrad, Adam\n",
    "from keras.utils import np_utils, generic_utils, to_categorical\n",
    "from keras.callbacks import EarlyStopping\n",
    "from keras.layers.normalization import BatchNormalization\n",
    "import sys\n",
    "import pickle\n",
    "\n",
    "print (\"Import Successful\")"
   ]
  },
  {
   "cell_type": "markdown",
   "metadata": {},
   "source": [
    "If want to train for 2 second utterances use '13L_2sec_mel_spectrograms.pickle' otherwise use '13L_mel_spectrograms.pickle'"
   ]
  },
  {
   "cell_type": "code",
   "execution_count": 2,
   "metadata": {},
   "outputs": [
    {
     "name": "stdout",
     "output_type": "stream",
     "text": [
      "Training data dimensions : (6531, 128, 501, 1)\n",
      "Test data : (1633, 128, 501, 1)\n"
     ]
    }
   ],
   "source": [
    "with open('13L_mel_spectrograms.pickle','rb') as f:\n",
    "    corpus,targets = pickle.load(f,encoding='latin1')\n",
    "\n",
    "\n",
    "xtrain, xtest, ytrain, ytest = train_test_split(corpus, targets, test_size=0.2, random_state=42)\n",
    "print('Training data dimensions : {}'.format(xtrain.shape))\n",
    "print('Test data : {}'.format(xtest.shape))"
   ]
  },
  {
   "cell_type": "code",
   "execution_count": 3,
   "metadata": {},
   "outputs": [
    {
     "name": "stdout",
     "output_type": "stream",
     "text": [
      "Epoch 1/50\n",
      "6531/6531 [==============================] - 12s 2ms/step - loss: 2.4454 - acc: 0.1876\n",
      "Epoch 2/50\n",
      " 128/6531 [..............................] - ETA: 6s - loss: 2.2400 - acc: 0.2812"
     ]
    },
    {
     "name": "stderr",
     "output_type": "stream",
     "text": [
      "/home/priyam.jain/tensorflow-gpu-python3/lib/python3.5/site-packages/keras/callbacks.py:569: RuntimeWarning: Early stopping conditioned on metric `val_loss` which is not available. Available metrics are: loss,acc\n",
      "  (self.monitor, ','.join(list(logs.keys()))), RuntimeWarning\n"
     ]
    },
    {
     "name": "stdout",
     "output_type": "stream",
     "text": [
      "6531/6531 [==============================] - 8s 1ms/step - loss: 2.1257 - acc: 0.3260\n",
      "Epoch 3/50\n",
      "6531/6531 [==============================] - 8s 1ms/step - loss: 1.8795 - acc: 0.3953\n",
      "Epoch 4/50\n",
      "6531/6531 [==============================] - 8s 1ms/step - loss: 1.7139 - acc: 0.4488\n",
      "Epoch 5/50\n",
      "6531/6531 [==============================] - 8s 1ms/step - loss: 1.5729 - acc: 0.5082\n",
      "Epoch 6/50\n",
      "6531/6531 [==============================] - 9s 1ms/step - loss: 1.4479 - acc: 0.5639\n",
      "Epoch 7/50\n",
      "6531/6531 [==============================] - 9s 1ms/step - loss: 1.2876 - acc: 0.6034\n",
      "Epoch 8/50\n",
      "6531/6531 [==============================] - 9s 1ms/step - loss: 1.1631 - acc: 0.6333\n",
      "Epoch 9/50\n",
      "6531/6531 [==============================] - 9s 1ms/step - loss: 1.0812 - acc: 0.6566\n",
      "Epoch 10/50\n",
      "6531/6531 [==============================] - 9s 1ms/step - loss: 0.9612 - acc: 0.6965\n",
      "Epoch 11/50\n",
      "6531/6531 [==============================] - 9s 1ms/step - loss: 0.8583 - acc: 0.7397\n",
      "Epoch 12/50\n",
      "6531/6531 [==============================] - 9s 1ms/step - loss: 0.8316 - acc: 0.7392\n",
      "Epoch 13/50\n",
      "6531/6531 [==============================] - 8s 1ms/step - loss: 0.7439 - acc: 0.7654\n",
      "Epoch 14/50\n",
      "6531/6531 [==============================] - 9s 1ms/step - loss: 0.6707 - acc: 0.7901\n",
      "Epoch 15/50\n",
      "6531/6531 [==============================] - 9s 1ms/step - loss: 0.6095 - acc: 0.8094\n",
      "Epoch 16/50\n",
      "6531/6531 [==============================] - 8s 1ms/step - loss: 0.5708 - acc: 0.8242\n",
      "Epoch 17/50\n",
      "6531/6531 [==============================] - 8s 1ms/step - loss: 0.5159 - acc: 0.8412\n",
      "Epoch 18/50\n",
      "6531/6531 [==============================] - 9s 1ms/step - loss: 0.4969 - acc: 0.8495\n",
      "Epoch 19/50\n",
      "6531/6531 [==============================] - 9s 1ms/step - loss: 0.5134 - acc: 0.8424\n",
      "Epoch 20/50\n",
      "6531/6531 [==============================] - 8s 1ms/step - loss: 0.4022 - acc: 0.8766\n",
      "Epoch 21/50\n",
      "6531/6531 [==============================] - 9s 1ms/step - loss: 0.3995 - acc: 0.8804\n",
      "Epoch 22/50\n",
      "6531/6531 [==============================] - 9s 1ms/step - loss: 0.3517 - acc: 0.8963\n",
      "Epoch 23/50\n",
      "6531/6531 [==============================] - 9s 1ms/step - loss: 0.3455 - acc: 0.8965\n",
      "Epoch 24/50\n",
      "6531/6531 [==============================] - 9s 1ms/step - loss: 0.3156 - acc: 0.9090\n",
      "Epoch 25/50\n",
      "6531/6531 [==============================] - 9s 1ms/step - loss: 0.2953 - acc: 0.9113\n",
      "Epoch 26/50\n",
      "6531/6531 [==============================] - 8s 1ms/step - loss: 0.2655 - acc: 0.9234\n",
      "Epoch 27/50\n",
      "6531/6531 [==============================] - 9s 1ms/step - loss: 0.2712 - acc: 0.9224\n",
      "Epoch 28/50\n",
      "6531/6531 [==============================] - 9s 1ms/step - loss: 0.2562 - acc: 0.9259\n",
      "Epoch 29/50\n",
      "6531/6531 [==============================] - 8s 1ms/step - loss: 0.2200 - acc: 0.9409\n",
      "Epoch 30/50\n",
      "6531/6531 [==============================] - 8s 1ms/step - loss: 0.2054 - acc: 0.9427\n",
      "Epoch 31/50\n",
      "6531/6531 [==============================] - 9s 1ms/step - loss: 0.2050 - acc: 0.9455\n",
      "Epoch 32/50\n",
      "6531/6531 [==============================] - 9s 1ms/step - loss: 0.2068 - acc: 0.9424\n",
      "Epoch 33/50\n",
      "6531/6531 [==============================] - 8s 1ms/step - loss: 0.1760 - acc: 0.9535\n",
      "Epoch 34/50\n",
      "6531/6531 [==============================] - 8s 1ms/step - loss: 0.1958 - acc: 0.9441\n",
      "Epoch 35/50\n",
      "6531/6531 [==============================] - 8s 1ms/step - loss: 0.1833 - acc: 0.9515\n",
      "Epoch 36/50\n",
      "6531/6531 [==============================] - 8s 1ms/step - loss: 0.1785 - acc: 0.9513\n",
      "Epoch 37/50\n",
      "6531/6531 [==============================] - 8s 1ms/step - loss: 0.1728 - acc: 0.9553\n",
      "Epoch 38/50\n",
      "6531/6531 [==============================] - 8s 1ms/step - loss: 0.1512 - acc: 0.9587\n",
      "Epoch 39/50\n",
      "6531/6531 [==============================] - 8s 1ms/step - loss: 0.1498 - acc: 0.9602\n",
      "Epoch 40/50\n",
      "6531/6531 [==============================] - 8s 1ms/step - loss: 0.1501 - acc: 0.9648\n",
      "Epoch 41/50\n",
      "6531/6531 [==============================] - 8s 1ms/step - loss: 0.1634 - acc: 0.9591\n",
      "Epoch 42/50\n",
      "6531/6531 [==============================] - 8s 1ms/step - loss: 0.1374 - acc: 0.9663\n",
      "Epoch 43/50\n",
      "6531/6531 [==============================] - 8s 1ms/step - loss: 0.1209 - acc: 0.9685\n",
      "Epoch 44/50\n",
      "6531/6531 [==============================] - 8s 1ms/step - loss: 0.1069 - acc: 0.9732\n",
      "Epoch 45/50\n",
      "6531/6531 [==============================] - 8s 1ms/step - loss: 0.1112 - acc: 0.9757\n",
      "Epoch 46/50\n",
      "6531/6531 [==============================] - 8s 1ms/step - loss: 0.1228 - acc: 0.9685\n",
      "Epoch 47/50\n",
      "6531/6531 [==============================] - 8s 1ms/step - loss: 0.1422 - acc: 0.9626\n",
      "Epoch 48/50\n",
      "6531/6531 [==============================] - 8s 1ms/step - loss: 0.1039 - acc: 0.9757\n",
      "Epoch 49/50\n",
      "6531/6531 [==============================] - 8s 1ms/step - loss: 0.0999 - acc: 0.9773\n",
      "Epoch 50/50\n",
      "6531/6531 [==============================] - 8s 1ms/step - loss: 0.0930 - acc: 0.9773\n"
     ]
    },
    {
     "data": {
      "text/plain": [
       "<keras.callbacks.History at 0x7f1b9c834978>"
      ]
     },
     "execution_count": 3,
     "metadata": {},
     "output_type": "execute_result"
    }
   ],
   "source": [
    "# create model\n",
    "model = Sequential()\n",
    "    \n",
    "model.add(Conv2D(16, kernel_size=(3, 3), activation='relu', input_shape=xtrain[0].shape))\n",
    "model.add(MaxPooling2D(pool_size=(2, 2)))\n",
    "model.add(Dropout(0.25))\n",
    "    \n",
    "model.add(Conv2D(16, kernel_size=(3, 3), activation='relu'))\n",
    "model.add(MaxPooling2D(pool_size=(2, 2)))\n",
    "model.add(Dropout(0.25))\n",
    "\n",
    "model.add(Conv2D(8, kernel_size=(3, 3), activation='relu'))\n",
    "model.add(MaxPooling2D(pool_size=(2, 2)))\n",
    "model.add(Dropout(0.25))\n",
    "\n",
    "model.add(Flatten())\n",
    "\n",
    "model.add(Dense(512,activation='relu'))\n",
    "\n",
    "model.add(Dense(13, activation='softmax'))\n",
    "\n",
    "# Compile the model\n",
    "model.compile(loss='categorical_crossentropy',optimizer=Adam(lr=0.0001, decay=1e-6),metrics=['accuracy'])\n",
    "\n",
    "# Train the model\n",
    "model.fit(xtrain, to_categorical(ytrain),batch_size=128,shuffle=True,epochs=50,verbose=1,callbacks=[EarlyStopping(min_delta=0.001, patience=3)])\n"
   ]
  },
  {
   "cell_type": "code",
   "execution_count": 4,
   "metadata": {},
   "outputs": [],
   "source": [
    "model.save('13LID_CNN.h5')"
   ]
  },
  {
   "cell_type": "code",
   "execution_count": 5,
   "metadata": {},
   "outputs": [
    {
     "name": "stdout",
     "output_type": "stream",
     "text": [
      "1633/1633 [==============================] - 1s 807us/step\n",
      "Loss: 2.8141625142871276\n",
      "Accuracy: 0.6436007348438457\n"
     ]
    }
   ],
   "source": [
    "# Evaluate the model\n",
    "scores = model.evaluate(xtest, to_categorical(ytest))\n",
    "print('Loss: {}'.format(scores[0]))\n",
    "print('Accuracy: {}'.format(scores[1]))"
   ]
  },
  {
   "cell_type": "code",
   "execution_count": 6,
   "metadata": {},
   "outputs": [
    {
     "name": "stdout",
     "output_type": "stream",
     "text": [
      "_________________________________________________________________\n",
      "Layer (type)                 Output Shape              Param #   \n",
      "=================================================================\n",
      "conv2d_1 (Conv2D)            (None, 126, 499, 16)      160       \n",
      "_________________________________________________________________\n",
      "max_pooling2d_1 (MaxPooling2 (None, 63, 249, 16)       0         \n",
      "_________________________________________________________________\n",
      "dropout_1 (Dropout)          (None, 63, 249, 16)       0         \n",
      "_________________________________________________________________\n",
      "conv2d_2 (Conv2D)            (None, 61, 247, 16)       2320      \n",
      "_________________________________________________________________\n",
      "max_pooling2d_2 (MaxPooling2 (None, 30, 123, 16)       0         \n",
      "_________________________________________________________________\n",
      "dropout_2 (Dropout)          (None, 30, 123, 16)       0         \n",
      "_________________________________________________________________\n",
      "conv2d_3 (Conv2D)            (None, 28, 121, 8)        1160      \n",
      "_________________________________________________________________\n",
      "max_pooling2d_3 (MaxPooling2 (None, 14, 60, 8)         0         \n",
      "_________________________________________________________________\n",
      "dropout_3 (Dropout)          (None, 14, 60, 8)         0         \n",
      "_________________________________________________________________\n",
      "flatten_1 (Flatten)          (None, 6720)              0         \n",
      "_________________________________________________________________\n",
      "dense_1 (Dense)              (None, 512)               3441152   \n",
      "_________________________________________________________________\n",
      "dense_2 (Dense)              (None, 13)                6669      \n",
      "=================================================================\n",
      "Total params: 3,451,461\n",
      "Trainable params: 3,451,461\n",
      "Non-trainable params: 0\n",
      "_________________________________________________________________\n",
      "None\n"
     ]
    }
   ],
   "source": [
    "print(model.summary())"
   ]
  },
  {
   "cell_type": "code",
   "execution_count": 7,
   "metadata": {},
   "outputs": [
    {
     "name": "stdout",
     "output_type": "stream",
     "text": [
      "Predicted Labels dimensions : (1633,)\n",
      "[[124   0   0   0   6   2   1   0   3   0   0   3   1]\n",
      " [  1  82   3  13   1   7   1   6   3   4   1   2   2]\n",
      " [  2   1  79   1   8  10   1   3   7   4   9   9   4]\n",
      " [  0   0   0 107   0   1   0   0   3   3   1   0   1]\n",
      " [  9   1   8   0  82  10   3   4   4   1   4   4   0]\n",
      " [  0   3   0   0   2  93   1   0   9   3   0   0   0]\n",
      " [  5   3   3   3   4   0  87   2   4   9   0   4   0]\n",
      " [  5  13   2   8   5   0   2  90   3   2   0   0   0]\n",
      " [  3   3   8   7   1   7   4   4  62  22   2   3   1]\n",
      " [  4   4   5   8   4   5   7   6  42  36   3   3   3]\n",
      " [  0   1  14   1   5   4   1   0   4   0  78  15   7]\n",
      " [  2   0  11   5   2   3   4   1   3   2  24  54   2]\n",
      " [  0   1   4   4   5   4   1   0   6   4  11   1  77]]\n"
     ]
    }
   ],
   "source": [
    "# Confusion matrix\n",
    "from sklearn.metrics import confusion_matrix\n",
    "\n",
    "ypred = model.predict(xtest)\n",
    "\n",
    "ypred_enc = np.argmax(ypred, axis=1)\n",
    "print('Predicted Labels dimensions : {}'.format(ypred_enc.shape))\n",
    "print(confusion_matrix(ytest,ypred_enc))"
   ]
  },
  {
   "cell_type": "code",
   "execution_count": 8,
   "metadata": {},
   "outputs": [
    {
     "name": "stdout",
     "output_type": "stream",
     "text": [
      "AxesSubplot(0.125,0.11;0.62x0.77)\n"
     ]
    }
   ],
   "source": [
    "import seaborn as sns\n",
    "\n",
    "class_names = []\n",
    "data_folder='13_language_dataset'\n",
    "for lang in os.listdir(data_folder):\n",
    "    if not lang.startswith('.'):\n",
    "        class_names.append(lang)\n",
    "\n",
    "class_names = np.asarray(class_names)\n",
    "\n",
    "fig = sns.heatmap(confusion_matrix(ytest,ypred_enc),xticklabels=class_names,yticklabels=class_names)\n",
    "\n",
    "print(fig)"
   ]
  },
  {
   "cell_type": "code",
   "execution_count": 9,
   "metadata": {},
   "outputs": [],
   "source": [
    "fig.get_figure().savefig('5sec_heatmap.png')"
   ]
  }
 ],
 "metadata": {
  "kernelspec": {
   "display_name": "Python 3",
   "language": "python",
   "name": "python3"
  },
  "language_info": {
   "codemirror_mode": {
    "name": "ipython",
    "version": 3
   },
   "file_extension": ".py",
   "mimetype": "text/x-python",
   "name": "python",
   "nbconvert_exporter": "python",
   "pygments_lexer": "ipython3",
   "version": "3.5.2"
  }
 },
 "nbformat": 4,
 "nbformat_minor": 2
}
